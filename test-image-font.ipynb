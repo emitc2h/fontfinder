{
 "cells": [
  {
   "cell_type": "code",
   "execution_count": 10,
   "metadata": {
    "collapsed": false
   },
   "outputs": [
    {
     "name": "stdout",
     "output_type": "stream",
     "text": [
      "The autoreload extension is already loaded. To reload it, use:\n",
      "  %reload_ext autoreload\n"
     ]
    }
   ],
   "source": [
    "%load_ext autoreload\n",
    "%autoreload 2\n",
    "%matplotlib inline\n",
    "\n",
    "from PIL import Image, ImageDraw, ImageFont\n",
    "import os\n",
    "import numpy as np\n",
    "from matplotlib import pyplot as plt\n",
    "from skimage import transform\n",
    "import cv2"
   ]
  },
  {
   "cell_type": "code",
   "execution_count": 2,
   "metadata": {
    "collapsed": true
   },
   "outputs": [],
   "source": [
    "## -------------------------------------------\n",
    "def generate_letter_image(letter, font_path, imgsize=100):\n",
    "    \"\"\"\n",
    "    Generate a 100x100 grayscale image of a given letter\n",
    "    of a given font\n",
    "    \"\"\"\n",
    "    \n",
    "    ## Test that there is a single character provided\n",
    "    assert len(letter) == 1, 'The letter provided should contain exactly one alphanumeric character'\n",
    "    \n",
    "    ## Test that the character is alphanumeric\n",
    "    assert letter.isalnum(), 'The letter provided should be alphanumeric'\n",
    "    \n",
    "    ## Make sure the entire character is contained in the raw image\n",
    "    delta_x      = 0\n",
    "    delta_y      = 0\n",
    "    font_size    = imgsize*5\n",
    "    \n",
    "    left_check   = True\n",
    "    right_check  = True\n",
    "    top_check    = True\n",
    "    bottom_check = True\n",
    "    \n",
    "    raw_w = raw_h = imgsize*5\n",
    "    \n",
    "    while True:\n",
    "        \n",
    "        ## Generate the image using PIL\n",
    "        image_raw = Image.new(\n",
    "            \"L\",                     ## single 8-bit channel\n",
    "            (raw_w, raw_h),              ## 500x500 px\n",
    "            0                        ## black background\n",
    "        )\n",
    "    \n",
    "        ## Retrieve font\n",
    "        font = ImageFont.truetype(font_path, font_size)\n",
    "    \n",
    "        ## Handle to draw on image\n",
    "        draw = ImageDraw.Draw(image_raw)\n",
    "        width, height = draw.textsize(letter, font=font)\n",
    "    \n",
    "        try:\n",
    "            draw.text((raw_w/2 - width/2 + delta_x, raw_h/2 - height/2 + delta_y), letter, 255, font=font)\n",
    "        except IOError:\n",
    "            font_size = int(font_size * 0.9)\n",
    "            continue\n",
    "    \n",
    "        array_raw = np.array(image_raw.getdata()).reshape(raw_w, raw_h)\n",
    "        \n",
    "        ## Detect whether or not the character is fully contained,\n",
    "        ## and determine appropriate action\n",
    "        \n",
    "        previous_left_check   = left_check\n",
    "        previous_right_check  = right_check\n",
    "        previous_top_check    = top_check\n",
    "        previous_bottom_check = bottom_check\n",
    "        \n",
    "        left_check   = array_raw[:,0].sum()   == 0\n",
    "        right_check  = array_raw[:,(raw_w-1)].sum() == 0\n",
    "        top_check    = array_raw[0,:].sum()   == 0\n",
    "        bottom_check = array_raw[(raw_h-1),:].sum() == 0\n",
    "        \n",
    "        all_check = array_raw.sum() > 0\n",
    "        \n",
    "        assert all_check, 'Nothing was drawn, make sure the font has a representation for the provided character'\n",
    "        \n",
    "        ## When the character is container, the array sum should be superior to 0,\n",
    "        ## but the bounding box should sum up to 0\n",
    "        if  left_check and \\\n",
    "            right_check and \\\n",
    "            top_check and \\\n",
    "            bottom_check:\n",
    "            break\n",
    "            \n",
    "        ## Let's find out if the character is too big\n",
    "        if ((not left_check) and (not right_check)) or ((not top_check) and (not bottom_check)):\n",
    "            font_size = int(font_size * 0.9)\n",
    "            continue\n",
    "            \n",
    "        ## Shift the character around\n",
    "        if not left_check:\n",
    "            if not previous_right_check:\n",
    "                font_size = int(font_size * 0.9)\n",
    "            delta_x += width/4\n",
    "            continue\n",
    "            \n",
    "        if not right_check:\n",
    "            if not previous_left_check:\n",
    "                font_size = int(font_size * 0.9)\n",
    "            delta_x -= width/4\n",
    "            continue\n",
    "            \n",
    "        if not top_check:\n",
    "            if not previous_bottom_check:\n",
    "                font_size = int(font_size * 0.9)\n",
    "            delta_y += height/4\n",
    "            continue\n",
    "            \n",
    "        if not bottom_check:\n",
    "            if not previous_top_check:\n",
    "                font_size = int(font_size * 0.9)\n",
    "            delta_y -= height/4\n",
    "            continue\n",
    "            \n",
    "    ## Detect letter edges and crop\n",
    "    x_projection = array_raw.sum(axis=1)\n",
    "    x_values = np.nonzero(x_projection)\n",
    "    x0, x1 = x_values[0][0], x_values[0][-1]\n",
    "    \n",
    "    y_projection = array_raw.sum(axis=0)\n",
    "    y_values = np.nonzero(y_projection)\n",
    "    y0, y1 = y_values[0][0], y_values[0][-1]\n",
    "    \n",
    "    array_crop = array_raw[max(0, x0-3):x1, max(0, y0-3):y1]\n",
    "    \n",
    "    scaling_factor = 0.9*imgsize/max(array_crop.shape)\n",
    "    \n",
    "    array_crop = transform.rescale(array_crop, scale=scaling_factor, preserve_range=True)\n",
    "    \n",
    "    ## Pad the image such that it fits, centered in a 100x100 px image\n",
    "    array = np.zeros((imgsize,imgsize), dtype='uint8')\n",
    "    \n",
    "    x_margin = imgsize - array_crop.shape[1]\n",
    "    y_margin = imgsize - array_crop.shape[0]\n",
    "    \n",
    "    x0 = (x_margin//2 + x_margin%2) - 1\n",
    "    x1 = (imgsize-1) - x_margin//2\n",
    "    \n",
    "    y0 = (y_margin//2 + y_margin%2) - 1\n",
    "    y1 = (imgsize-1) - y_margin//2\n",
    "    \n",
    "    array[y0:y1, x0:x1] = array_crop\n",
    "    \n",
    "    return array\n",
    "    \n",
    "    \n",
    "        \n",
    "    "
   ]
  },
  {
   "cell_type": "code",
   "execution_count": 63,
   "metadata": {
    "collapsed": false
   },
   "outputs": [
    {
     "data": {
      "text/plain": [
       "<matplotlib.image.AxesImage at 0x112625690>"
      ]
     },
     "execution_count": 63,
     "metadata": {},
     "output_type": "execute_result"
    },
    {
     "data": {
      "image/png": "[encoded data removed]",
      "text/plain": [
       "<matplotlib.figure.Figure at 0x10ef507d0>"
      ]
     },
     "metadata": {},
     "output_type": "display_data"
    }
   ],
   "source": [
    "font_dir = os.path.join('/', 'Users', 'mtm', 'Projects', 'FontFinder', 'dafont_fonts')\n",
    "font_dir2 = os.path.join('/', 'Library', 'Fonts')\n",
    "font_path = os.path.join(font_dir, 'Hickory Jack.ttf')\n",
    "\n",
    "img_array = generate_letter_image('a', font_path, imgsize=50)\n",
    "plt.imshow(img_array, cmap='Greys_r')"
   ]
  },
  {
   "cell_type": "code",
   "execution_count": 103,
   "metadata": {
    "collapsed": false
   },
   "outputs": [
    {
     "data": {
      "text/plain": [
       "<matplotlib.image.AxesImage at 0x115c8eb10>"
      ]
     },
     "execution_count": 103,
     "metadata": {},
     "output_type": "execute_result"
    },
    {
     "data": {
      "image/png": "[encoded data removed]",
      "text/plain": [
       "<matplotlib.figure.Figure at 0x119042710>"
      ]
     },
     "metadata": {},
     "output_type": "display_data"
    }
   ],
   "source": [
    "mtest = Image.open('Mtest.png')\n",
    "mtest_array = np.array(mtest.getdata())\n",
    "mtest_array = np.sum(mtest_array, axis=1)\n",
    "mtest_array.shape = (48,48)\n",
    "mtest_array = np.multiply(mtest_array, 1.0/np.max(mtest_array))\n",
    "mtest_array = 1.0 - mtest_array\n",
    "plt.imshow(mtest_array, cmap='Greys_r')"
   ]
  },
  {
   "cell_type": "code",
   "execution_count": 64,
   "metadata": {
    "collapsed": false
   },
   "outputs": [],
   "source": [
    "## Create an array of M images\n",
    "font_list = [os.path.join(font_dir, font) for font in os.listdir(font_dir)]\n",
    "font_list += [os.path.join(font_dir2, font) for font in os.listdir(font_dir2)]"
   ]
  },
  {
   "cell_type": "code",
   "execution_count": 65,
   "metadata": {
    "collapsed": false
   },
   "outputs": [
    {
     "name": "stdout",
     "output_type": "stream",
     "text": [
      "27618\n"
     ]
    }
   ],
   "source": [
    "print len(font_list)"
   ]
  },
  {
   "cell_type": "code",
   "execution_count": 66,
   "metadata": {
    "collapsed": false
   },
   "outputs": [
    {
     "data": {
      "text/plain": [
       "True"
      ]
     },
     "execution_count": 66,
     "metadata": {},
     "output_type": "execute_result"
    }
   ],
   "source": [
    "font_index = 0\n",
    "y_fonts = []\n",
    "for i in range(15):\n",
    "    x_fonts = []\n",
    "    for j in range(18):\n",
    "        try:\n",
    "            x_fonts.append(generate_letter_image('a', font_list[font_index], imgsize=50))\n",
    "        except:\n",
    "            x_fonts.append(np.zeros((50,50), dtype='uint8'))\n",
    "        font_index += 1\n",
    "    y_fonts.append(np.hstack(x_fonts))\n",
    "\n",
    "all_fonts = np.vstack(y_fonts)\n",
    "\n",
    "cv2.imwrite('as.png', all_fonts)"
   ]
  },
  {
   "cell_type": "code",
   "execution_count": 67,
   "metadata": {
    "collapsed": true
   },
   "outputs": [],
   "source": [
    "## A function to generate random noise\n",
    "def generate_noise(imgsize=100):\n",
    "    return np.random.random(size=(imgsize, imgsize))"
   ]
  },
  {
   "cell_type": "code",
   "execution_count": 68,
   "metadata": {
    "collapsed": false
   },
   "outputs": [
    {
     "data": {
      "text/plain": [
       "<matplotlib.image.AxesImage at 0x106cc8310>"
      ]
     },
     "execution_count": 68,
     "metadata": {},
     "output_type": "execute_result"
    },
    {
     "data": {
      "image/png": "[encoded data removed]",
      "text/plain": [
       "<matplotlib.figure.Figure at 0x1138890d0>"
      ]
     },
     "metadata": {},
     "output_type": "display_data"
    }
   ],
   "source": [
    "img_array = generate_noise(imgsize=50)\n",
    "plt.imshow(img_array, cmap='Greys_r')"
   ]
  },
  {
   "cell_type": "code",
   "execution_count": 69,
   "metadata": {
    "collapsed": true
   },
   "outputs": [],
   "source": [
    "## ----------------------------------------\n",
    "def generate_training_sample(char, img, font_list, n_random=10):\n",
    "    \"\"\"\n",
    "    A function to generate the training sample\n",
    "    \"\"\"\n",
    "    \n",
    "    ## normalize the image\n",
    "    norm_img = np.multiply(img, 1.0/256)\n",
    "    \n",
    "    ## Get image dimensions\n",
    "    w,h = norm_img.shape\n",
    "    assert w == h, 'Char image should be square'\n",
    "    \n",
    "    ## Obtain random fonts\n",
    "    random_fonts = np.random.choice(font_list, n_random)\n",
    "    random = []\n",
    "\n",
    "    for font in random_fonts:\n",
    "        try:\n",
    "            rdn_img      = generate_letter_image(char, font, imgsize=w)\n",
    "            rdn_norm_img = np.multiply(rdn_img, 1.0/256)\n",
    "            \n",
    "            random.append(np.ravel(rdn_norm_img))\n",
    "        except:\n",
    "            random.append(np.ones(w*w))\n",
    "            \n",
    "    ## Put together the different types of training samples\n",
    "    n_noise = 10\n",
    "    noise   = [np.ravel(generate_noise(imgsize=w)) for i in range(n_noise)]\n",
    "    \n",
    "    n_zeros = 10\n",
    "    zeros   = [np.zeros(w*w)]*n_zeros\n",
    "    \n",
    "    n_signal = n_random + n_noise + n_zeros\n",
    "    signal   = [np.ravel(norm_img)]*n_signal\n",
    "    \n",
    "    n_total = 2*n_signal\n",
    "    \n",
    "    X = np.stack(signal + noise + zeros + random, axis=0)\n",
    "    y = np.array([0]*n_signal + [1]*n_noise + [2]*n_zeros + range(3, n_random+3))\n",
    "    \n",
    "    return X,y\n",
    "    "
   ]
  },
  {
   "cell_type": "code",
   "execution_count": 104,
   "metadata": {
    "collapsed": false
   },
   "outputs": [],
   "source": [
    "font_path = os.path.join(font_dir, 'Hickory Jack.ttf')\n",
    "char = 'M'\n",
    "d    = 48\n",
    "img = generate_letter_image(char, font_path, imgsize=d)\n",
    "X_train, y_train = generate_training_sample(char, mtest_array, font_list, n_random=100)"
   ]
  },
  {
   "cell_type": "code",
   "execution_count": 105,
   "metadata": {
    "collapsed": false
   },
   "outputs": [],
   "source": [
    "from sktfnn.neuralnetwork import NeuralNetwork\n",
    "from sktfnn.layer import Layer, ConvLayer, DropoutLayer"
   ]
  },
  {
   "cell_type": "code",
   "execution_count": 106,
   "metadata": {
    "collapsed": false
   },
   "outputs": [],
   "source": [
    "nn = NeuralNetwork(\n",
    "    hidden_layers = [\n",
    "        ConvLayer(\n",
    "            img_size=(d,d),\n",
    "            patch_size=(6,6),\n",
    "            n_features=32,\n",
    "            pooling='max',\n",
    "            pooling_size=(3,3),\n",
    "        ),\n",
    "        ConvLayer(\n",
    "            img_size=(16,16),\n",
    "            n_features=64,\n",
    "            pooling='max',\n",
    "        ),\n",
    "        Layer(\n",
    "            n_neurons=512,\n",
    "            activation='relu'\n",
    "        )\n",
    "    ],\n",
    "    learning_algorithm='GradientDescent',\n",
    "    cost_function='log-likelihood',\n",
    "    learning_rate=2e-2,\n",
    "    early_stopping=False,\n",
    "    stagnation=10,\n",
    "    n_epochs=50,\n",
    "    mini_batch_size=y_train.shape[0]\n",
    "    )"
   ]
  },
  {
   "cell_type": "code",
   "execution_count": 107,
   "metadata": {
    "collapsed": false
   },
   "outputs": [
    {
     "name": "stdout",
     "output_type": "stream",
     "text": [
      "Epoch 0, validation sample accuracy: 0.00416666688398\n",
      "Epoch 1, validation sample accuracy: 0.5\n",
      "Epoch 2, validation sample accuracy: 0.00416666688398\n",
      "Epoch 3, validation sample accuracy: 0.524999976158\n",
      "Epoch 4, validation sample accuracy: 0.541666686535\n",
      "Epoch 5, validation sample accuracy: 0.541666686535\n",
      "Epoch 6, validation sample accuracy: 0.541666686535\n",
      "Epoch 7, validation sample accuracy: 0.541666686535\n",
      "Epoch 8, validation sample accuracy: 0.541666686535\n",
      "Epoch 9, validation sample accuracy: 0.550000011921\n",
      "Epoch 10, validation sample accuracy: 0.550000011921\n",
      "Epoch 11, validation sample accuracy: 0.550000011921\n",
      "Epoch 12, validation sample accuracy: 0.550000011921\n",
      "Epoch 13, validation sample accuracy: 0.558333337307\n",
      "Epoch 14, validation sample accuracy: 0.5625\n",
      "Epoch 15, validation sample accuracy: 0.574999988079\n",
      "Epoch 16, validation sample accuracy: 0.574999988079\n",
      "Epoch 17, validation sample accuracy: 0.579166650772\n",
      "Epoch 18, validation sample accuracy: 0.587499976158\n",
      "Epoch 19, validation sample accuracy: 0.583333313465\n",
      "Epoch 20, validation sample accuracy: 0.600000023842\n",
      "Epoch 21, validation sample accuracy: 0.600000023842\n",
      "Epoch 22, validation sample accuracy: 0.625\n",
      "Epoch 23, validation sample accuracy: 0.620833337307\n",
      "Epoch 24, validation sample accuracy: 0.629166662693\n",
      "Epoch 25, validation sample accuracy: 0.633333325386\n",
      "Epoch 26, validation sample accuracy: 0.641666650772\n",
      "Epoch 27, validation sample accuracy: 0.641666650772\n",
      "Epoch 28, validation sample accuracy: 0.641666650772\n",
      "Epoch 29, validation sample accuracy: 0.645833313465\n",
      "Epoch 30, validation sample accuracy: 0.654166638851\n",
      "Epoch 31, validation sample accuracy: 0.645833313465\n",
      "Epoch 32, validation sample accuracy: 0.662500023842\n",
      "Epoch 33, validation sample accuracy: 0.666666686535\n",
      "Epoch 34, validation sample accuracy: 0.679166674614\n",
      "Epoch 35, validation sample accuracy: 0.691666662693\n",
      "Epoch 36, validation sample accuracy: 0.695833325386\n",
      "Epoch 37, validation sample accuracy: 0.704166650772\n",
      "Epoch 38, validation sample accuracy: 0.704166650772\n",
      "Epoch 39, validation sample accuracy: 0.716666638851\n",
      "Epoch 40, validation sample accuracy: 0.725000023842\n",
      "Epoch 41, validation sample accuracy: 0.725000023842\n",
      "Epoch 42, validation sample accuracy: 0.729166686535\n",
      "Epoch 43, validation sample accuracy: 0.745833337307\n",
      "Epoch 44, validation sample accuracy: 0.745833337307\n",
      "Epoch 45, validation sample accuracy: 0.762499988079\n",
      "Epoch 46, validation sample accuracy: 0.766666650772\n",
      "Epoch 47, validation sample accuracy: 0.779166638851\n",
      "Epoch 48, validation sample accuracy: 0.800000011921\n",
      "Epoch 49, validation sample accuracy: 0.791666686535\n",
      "CPU times: user 4min 37s, sys: 51 s, total: 5min 28s\n",
      "Wall time: 1min 25s\n"
     ]
    }
   ],
   "source": [
    "%time nn.fit(X_train, y_train, verbose=True, val_X=X_train, val_y=y_train)"
   ]
  },
  {
   "cell_type": "code",
   "execution_count": 108,
   "metadata": {
    "collapsed": true
   },
   "outputs": [],
   "source": [
    "# low_level_features = nn.hidden_layers[0].weights.eval()"
   ]
  },
  {
   "cell_type": "code",
   "execution_count": 109,
   "metadata": {
    "collapsed": false
   },
   "outputs": [],
   "source": [
    "# low_level_features.shape"
   ]
  },
  {
   "cell_type": "code",
   "execution_count": 110,
   "metadata": {
    "collapsed": false,
    "scrolled": false
   },
   "outputs": [],
   "source": [
    "# fig, ax = plt.subplots(32, figsize=(2, 64))\n",
    "\n",
    "# for i in range(32):\n",
    "#     ax[i].imshow(low_level_features[:,:,0,i], cmap='Greys_r')"
   ]
  },
  {
   "cell_type": "code",
   "execution_count": null,
   "metadata": {
    "collapsed": false,
    "scrolled": false
   },
   "outputs": [
    {
     "name": "stdout",
     "output_type": "stream",
     "text": [
      "0\n",
      "1000\n",
      "2000\n",
      "3000\n"
     ]
    }
   ],
   "source": [
    "images = []\n",
    "scores = []\n",
    "fonts  = []\n",
    "\n",
    "progress = 0\n",
    "\n",
    "for font in font_list:\n",
    "    \n",
    "    if progress%1000 == 0:\n",
    "        print progress\n",
    "    \n",
    "    try:\n",
    "        image = generate_letter_image(char, font, imgsize=48)\n",
    "    except:\n",
    "        image = np.ones((d,d), dtype='uint8')\n",
    "        \n",
    "    norm_image = np.multiply(image, 1.0/256)\n",
    "    \n",
    "    images.append(image)\n",
    "    fonts.append(font)\n",
    "    \n",
    "    norm_image.shape = (1,d*d)\n",
    "    \n",
    "    scores.append(nn.predict_proba(norm_image)[0][0])\n",
    "    \n",
    "    progress += 1\n",
    "    "
   ]
  },
  {
   "cell_type": "code",
   "execution_count": 87,
   "metadata": {
    "collapsed": false
   },
   "outputs": [],
   "source": [
    "sorted_images = sorted(zip(scores, images, fonts), key=lambda x: x[0], reverse=True)"
   ]
  },
  {
   "cell_type": "code",
   "execution_count": 88,
   "metadata": {
    "collapsed": false
   },
   "outputs": [],
   "source": [
    "font_index = 0\n",
    "y_fonts = []\n",
    "for i in range(100):\n",
    "    x_fonts = []\n",
    "    for j in range(100):\n",
    "        img = sorted_images[i*100 + j][1]\n",
    "        if font_path == sorted_images[i*100 + j][2]:\n",
    "            img[:,0] = 255\n",
    "            img[:,-1] = 255\n",
    "            img[0,:] = 255\n",
    "            img[-1,:] = 255\n",
    "        \n",
    "        x_fonts.append(img)\n",
    "    y_fonts.append(np.hstack(x_fonts))\n",
    "\n",
    "all_fonts = np.vstack(y_fonts)"
   ]
  },
  {
   "cell_type": "code",
   "execution_count": 89,
   "metadata": {
    "collapsed": false
   },
   "outputs": [
    {
     "data": {
      "text/plain": [
       "True"
      ]
     },
     "execution_count": 89,
     "metadata": {},
     "output_type": "execute_result"
    }
   ],
   "source": [
    "cv2.imwrite('out.png', all_fonts)"
   ]
  },
  {
   "cell_type": "code",
   "execution_count": 90,
   "metadata": {
    "collapsed": false
   },
   "outputs": [
    {
     "name": "stdout",
     "output_type": "stream",
     "text": [
      "0\n"
     ]
    }
   ],
   "source": [
    "for i, tup in enumerate(sorted_images):\n",
    "    if font_path == tup[2]:\n",
    "        print i"
   ]
  },
  {
   "cell_type": "code",
   "execution_count": 91,
   "metadata": {
    "collapsed": false,
    "scrolled": false
   },
   "outputs": [
    {
     "name": "stdout",
     "output_type": "stream",
     "text": [
      "0.997103 /Users/mtm/Projects/FontFinder/dafont_fonts/Hickory Jack.ttf\n",
      "0.82181 /Users/mtm/Projects/FontFinder/dafont_fonts/Hickory Jack Light.ttf\n",
      "0.421807 /Users/mtm/Projects/FontFinder/dafont_fonts/MACABRA_.TTF\n",
      "0.350464 /Users/mtm/Projects/FontFinder/dafont_fonts/Gardenia.ttf\n",
      "0.349913 /Users/mtm/Projects/FontFinder/dafont_fonts/Arthus1 Hig6htone.ttf\n",
      "0.335153 /Users/mtm/Projects/FontFinder/dafont_fonts/Bailey Bowers.ttf\n",
      "0.306696 /Users/mtm/Projects/FontFinder/dafont_fonts/Honeybee.ttf\n",
      "0.293188 /Users/mtm/Projects/FontFinder/dafont_fonts/FairBanks.ttf\n",
      "0.291983 /Users/mtm/Projects/FontFinder/dafont_fonts/ALL ABOUT LOVE.ttf\n",
      "0.280387 /Users/mtm/Projects/FontFinder/dafont_fonts/Logoz-Librariez.ttf\n",
      "0.264194 /Users/mtm/Projects/FontFinder/dafont_fonts/berserkerl.ttf\n",
      "0.241222 /Users/mtm/Projects/FontFinder/dafont_fonts/mclawsui.ttf\n",
      "0.238478 /Users/mtm/Projects/FontFinder/dafont_fonts/Denne s Summer.ttf\n",
      "0.237451 /Users/mtm/Projects/FontFinder/dafont_fonts/N!CE_Tag.TTF\n",
      "0.229998 /Users/mtm/Projects/FontFinder/dafont_fonts/bicycle tfb.ttf\n",
      "0.227241 /Users/mtm/Projects/FontFinder/dafont_fonts/MTF Lynds.ttf\n",
      "0.226577 /Users/mtm/Projects/FontFinder/dafont_fonts/AylaSkinny.ttf\n",
      "0.225867 /Users/mtm/Projects/FontFinder/dafont_fonts/MCG.ttf\n",
      "0.224654 /Users/mtm/Projects/FontFinder/dafont_fonts/globaldynamicsleft.ttf\n",
      "0.224166 /Users/mtm/Projects/FontFinder/dafont_fonts/incubus.ttf\n",
      "0.220981 /Users/mtm/Projects/FontFinder/dafont_fonts/Handwerk.ttf\n",
      "0.212852 /Users/mtm/Projects/FontFinder/dafont_fonts/MoxyRoxie.ttf\n",
      "0.210665 /Users/mtm/Projects/FontFinder/dafont_fonts/KG I Want Crazy.otf\n",
      "0.200892 /Users/mtm/Projects/FontFinder/dafont_fonts/BEDSA.ttf\n",
      "0.196034 /Users/mtm/Projects/FontFinder/dafont_fonts/DJB Pookie Doo.ttf\n",
      "0.195068 /Users/mtm/Projects/FontFinder/dafont_fonts/JayneprintYOFF.otf\n",
      "0.19505 /Users/mtm/Projects/FontFinder/dafont_fonts/AKUMA.ttf\n",
      "0.194623 /Users/mtm/Projects/FontFinder/dafont_fonts/Domenico128.ttf\n",
      "0.193442 /Users/mtm/Projects/FontFinder/dafont_fonts/CoalhandLuke TRIAL.otf\n",
      "0.193153 /Users/mtm/Projects/FontFinder/dafont_fonts/Mi_nombre_es_Problema.ttf\n",
      "0.190583 /Users/mtm/Projects/FontFinder/dafont_fonts/MARE 007.ttf\n",
      "0.189168 /Users/mtm/Projects/FontFinder/dafont_fonts/curlytype.ttf\n",
      "0.187822 /Users/mtm/Projects/FontFinder/dafont_fonts/BUNGNIPP.TTF\n",
      "0.185601 /Users/mtm/Projects/FontFinder/dafont_fonts/CoalhandLuke TRIAL.ttf\n",
      "0.184458 /Users/mtm/Projects/FontFinder/dafont_fonts/FONTRSTC.TTF\n",
      "0.182864 /Users/mtm/Projects/FontFinder/dafont_fonts/JayneprintYOFF.ttf\n",
      "0.17976 /Users/mtm/Projects/FontFinder/dafont_fonts/jd_equinox.ttf\n",
      "0.17874 /Users/mtm/Projects/FontFinder/dafont_fonts/Dos campos.ttf\n",
      "0.178309 /Users/mtm/Projects/FontFinder/dafont_fonts/LazyDog.ttf\n",
      "0.177965 /Users/mtm/Projects/FontFinder/dafont_fonts/globaldynamicslaser.ttf\n",
      "0.176473 /Users/mtm/Projects/FontFinder/dafont_fonts/Gorestep.ttf\n",
      "0.176378 /Users/mtm/Projects/FontFinder/dafont_fonts/Arnot Hand.ttf\n",
      "0.175623 /Users/mtm/Projects/FontFinder/dafont_fonts/PersonalUse_Monoment.ttf\n",
      "0.173185 /Users/mtm/Projects/FontFinder/dafont_fonts/de Manu 1 Medium.ttf\n",
      "0.165223 /Users/mtm/Projects/FontFinder/dafont_fonts/airali.ttf\n",
      "0.163582 /Users/mtm/Projects/FontFinder/dafont_fonts/dill pickles.ttf\n",
      "0.163039 /Users/mtm/Projects/FontFinder/dafont_fonts/COSMBV__.TTF\n",
      "0.162276 /Users/mtm/Projects/FontFinder/dafont_fonts/Hillary.ttf\n",
      "0.160522 /Users/mtm/Projects/FontFinder/dafont_fonts/IDW.ttf\n",
      "0.16052 /Users/mtm/Projects/FontFinder/dafont_fonts/Horse.ttf\n",
      "0.158761 /Users/mtm/Projects/FontFinder/dafont_fonts/hecubus.ttf\n",
      "0.157494 /Users/mtm/Projects/FontFinder/dafont_fonts/Dyslexic_English_Teacher_s_Handwriting.ttf\n",
      "0.156341 /Users/mtm/Projects/FontFinder/dafont_fonts/Go Boom!.ttf\n",
      "0.156317 /Users/mtm/Projects/FontFinder/dafont_fonts/Mirabelle.ttf\n",
      "0.156154 /Users/mtm/Projects/FontFinder/dafont_fonts/berserkers.ttf\n",
      "0.155912 /Users/mtm/Projects/FontFinder/dafont_fonts/FinalFantasyElements.TTF\n",
      "0.150706 /Users/mtm/Projects/FontFinder/dafont_fonts/Luna's Handwriting V1.1.ttf\n",
      "0.150318 /Users/mtm/Projects/FontFinder/dafont_fonts/MR SKAE.ttf\n",
      "0.150088 /Users/mtm/Projects/FontFinder/dafont_fonts/droidloverl.ttf\n",
      "0.149728 /Users/mtm/Projects/FontFinder/dafont_fonts/KR Valentines 2006 Three.ttf\n",
      "0.14948 /Users/mtm/Projects/FontFinder/dafont_fonts/FlameTime.ttf\n",
      "0.14883 /Users/mtm/Projects/FontFinder/dafont_fonts/modithorsonleft.ttf\n",
      "0.14709 /Users/mtm/Projects/FontFinder/dafont_fonts/jorgieporgiepuddinpie.ttf\n",
      "0.14632 /Users/mtm/Projects/FontFinder/dafont_fonts/Action Man Extended Bold.ttf\n",
      "0.145974 /Users/mtm/Projects/FontFinder/dafont_fonts/HeadShot.ttf\n",
      "0.145331 /Users/mtm/Projects/FontFinder/dafont_fonts/LifesTooFast.ttf\n",
      "0.144359 /Users/mtm/Projects/FontFinder/dafont_fonts/Mikee.otf\n",
      "0.144335 /Users/mtm/Projects/FontFinder/dafont_fonts/monkphon.ttf\n",
      "0.144294 /Users/mtm/Projects/FontFinder/dafont_fonts/Lipst___.ttf\n",
      "0.143045 /Users/mtm/Projects/FontFinder/dafont_fonts/Edge Handwrite.ttf\n",
      "0.142546 /Users/mtm/Projects/FontFinder/dafont_fonts/I Wanna Be Your Dog.ttf\n",
      "0.142178 /Users/mtm/Projects/FontFinder/dafont_fonts/Crusades.ttf\n",
      "0.141609 /Users/mtm/Projects/FontFinder/dafont_fonts/Fiolex_Mephisto.ttf\n",
      "0.140638 /Users/mtm/Projects/FontFinder/dafont_fonts/Aida Garmo - Aida.ttf\n",
      "0.140351 /Users/mtm/Projects/FontFinder/dafont_fonts/blackbishopleft.ttf\n",
      "0.139943 /Users/mtm/Projects/FontFinder/dafont_fonts/KBSneakyWalrus.ttf\n",
      "0.138922 /Users/mtm/Projects/FontFinder/dafont_fonts/mouthbrebb.ttf\n",
      "0.138821 /Users/mtm/Projects/FontFinder/dafont_fonts/KBJellybean.ttf\n",
      "0.138402 /Users/mtm/Projects/FontFinder/dafont_fonts/BurtonScratch-Regular.ttf\n",
      "0.138305 /Users/mtm/Projects/FontFinder/dafont_fonts/GreatFriendsDT.ttf\n",
      "0.136948 /Users/mtm/Projects/FontFinder/dafont_fonts/morado felt.ttf\n",
      "0.136604 /Users/mtm/Projects/FontFinder/dafont_fonts/HISKYF69.ttf\n",
      "0.136558 /Users/mtm/Projects/FontFinder/dafont_fonts/hollowpointleft.ttf\n",
      "0.135932 /Users/mtm/Projects/FontFinder/dafont_fonts/Harakiri.ttf\n",
      "0.135459 /Users/mtm/Projects/FontFinder/dafont_fonts/LeFuturAttendra.otf\n",
      "0.134576 /Users/mtm/Projects/FontFinder/dafont_fonts/Lazy Girls hollow.ttf\n",
      "0.134531 /Users/mtm/Projects/FontFinder/dafont_fonts/EuclidCP.otf\n",
      "0.134273 /Users/mtm/Projects/FontFinder/dafont_fonts/MTF Mikayla.ttf\n",
      "0.133767 /Users/mtm/Projects/FontFinder/dafont_fonts/BOBCAT.TTF\n",
      "0.13295 /Users/mtm/Projects/FontFinder/dafont_fonts/DK Mandolin.otf\n",
      "0.132851 /Users/mtm/Projects/FontFinder/dafont_fonts/American Purpose STRIPE 1 Bold Italic.otf\n",
      "0.132237 /Users/mtm/Projects/FontFinder/dafont_fonts/LVDCG___.TTF\n",
      "0.132237 /Users/mtm/Projects/FontFinder/dafont_fonts/Modern Iaconic.otf\n",
      "0.132044 /Users/mtm/Projects/FontFinder/dafont_fonts/EATMYEGGROLLS.ttf\n",
      "0.131904 /Users/mtm/Projects/FontFinder/dafont_fonts/galantleft.ttf\n",
      "0.130056 /Users/mtm/Projects/FontFinder/dafont_fonts/claw1.ttf\n",
      "0.130034 /Users/mtm/Projects/FontFinder/dafont_fonts/Mf Autumn Breeze.ttf\n",
      "0.129921 /Users/mtm/Projects/FontFinder/dafont_fonts/DJB Annalise the Bold.ttf\n",
      "0.129822 /Users/mtm/Projects/FontFinder/dafont_fonts/mortis.ttf\n",
      "0.129766 /Users/mtm/Projects/FontFinder/dafont_fonts/livewiredleft.ttf\n",
      "0.129463 /Users/mtm/Projects/FontFinder/dafont_fonts/BySamantha_Print.ttf\n",
      "0.129452 /Users/mtm/Projects/FontFinder/dafont_fonts/anna.ttf\n"
     ]
    }
   ],
   "source": [
    "for i, (score, image, font) in enumerate(sorted_images):\n",
    "    print score, font\n",
    "    if i > 100: break"
   ]
  },
  {
   "cell_type": "code",
   "execution_count": null,
   "metadata": {
    "collapsed": true
   },
   "outputs": [],
   "source": []
  }
 ],
 "metadata": {
  "kernelspec": {
   "display_name": "Python 2",
   "language": "python",
   "name": "python2"
  },
  "language_info": {
   "codemirror_mode": {
    "name": "ipython",
    "version": 2
   },
   "file_extension": ".py",
   "mimetype": "text/x-python",
   "name": "python",
   "nbconvert_exporter": "python",
   "pygments_lexer": "ipython2",
   "version": "2.7.11"
  }
 },
 "nbformat": 4,
 "nbformat_minor": 0
}
