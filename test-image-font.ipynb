{
 "cells": [
  {
   "cell_type": "code",
   "execution_count": 10,
   "metadata": {
    "collapsed": false
   },
   "outputs": [
    {
     "name": "stdout",
     "output_type": "stream",
     "text": [
      "The autoreload extension is already loaded. To reload it, use:\n",
      "  %reload_ext autoreload\n"
     ]
    }
   ],
   "source": [
    "%load_ext autoreload\n",
    "%autoreload 2\n",
    "%matplotlib inline\n",
    "\n",
    "from PIL import Image, ImageDraw, ImageFont\n",
    "import os\n",
    "import numpy as np\n",
    "from matplotlib import pyplot as plt\n",
    "from skimage import transform\n",
    "import cv2"
   ]
  },
  {
   "cell_type": "code",
   "execution_count": 2,
   "metadata": {
    "collapsed": true
   },
   "outputs": [],
   "source": [
    "## -------------------------------------------\n",
    "def generate_letter_image(letter, font_path, imgsize=100):\n",
    "    \"\"\"\n",
    "    Generate a 100x100 grayscale image of a given letter\n",
    "    of a given font\n",
    "    \"\"\"\n",
    "    \n",
    "    ## Test that there is a single character provided\n",
    "    assert len(letter) == 1, 'The letter provided should contain exactly one alphanumeric character'\n",
    "    \n",
    "    ## Test that the character is alphanumeric\n",
    "    assert letter.isalnum(), 'The letter provided should be alphanumeric'\n",
    "    \n",
    "    ## Make sure the entire character is contained in the raw image\n",
    "    delta_x      = 0\n",
    "    delta_y      = 0\n",
    "    font_size    = imgsize*5\n",
    "    \n",
    "    left_check   = True\n",
    "    right_check  = True\n",
    "    top_check    = True\n",
    "    bottom_check = True\n",
    "    \n",
    "    raw_w = raw_h = imgsize*5\n",
    "    \n",
    "    while True:\n",
    "        \n",
    "        ## Generate the image using PIL\n",
    "        image_raw = Image.new(\n",
    "            \"L\",                     ## single 8-bit channel\n",
    "            (raw_w, raw_h),              ## 500x500 px\n",
    "            0                        ## black background\n",
    "        )\n",
    "    \n",
    "        ## Retrieve font\n",
    "        font = ImageFont.truetype(font_path, font_size)\n",
    "    \n",
    "        ## Handle to draw on image\n",
    "        draw = ImageDraw.Draw(image_raw)\n",
    "        width, height = draw.textsize(letter, font=font)\n",
    "    \n",
    "        try:\n",
    "            draw.text((raw_w/2 - width/2 + delta_x, raw_h/2 - height/2 + delta_y), letter, 255, font=font)\n",
    "        except IOError:\n",
    "            font_size = int(font_size * 0.9)\n",
    "            continue\n",
    "    \n",
    "        array_raw = np.array(image_raw.getdata()).reshape(raw_w, raw_h)\n",
    "        \n",
    "        ## Detect whether or not the character is fully contained,\n",
    "        ## and determine appropriate action\n",
    "        \n",
    "        previous_left_check   = left_check\n",
    "        previous_right_check  = right_check\n",
    "        previous_top_check    = top_check\n",
    "        previous_bottom_check = bottom_check\n",
    "        \n",
    "        left_check   = array_raw[:,0].sum()   == 0\n",
    "        right_check  = array_raw[:,(raw_w-1)].sum() == 0\n",
    "        top_check    = array_raw[0,:].sum()   == 0\n",
    "        bottom_check = array_raw[(raw_h-1),:].sum() == 0\n",
    "        \n",
    "        all_check = array_raw.sum() > 0\n",
    "        \n",
    "        assert all_check, 'Nothing was drawn, make sure the font has a representation for the provided character'\n",
    "        \n",
    "        ## When the character is container, the array sum should be superior to 0,\n",
    "        ## but the bounding box should sum up to 0\n",
    "        if  left_check and \\\n",
    "            right_check and \\\n",
    "            top_check and \\\n",
    "            bottom_check:\n",
    "            break\n",
    "            \n",
    "        ## Let's find out if the character is too big\n",
    "        if ((not left_check) and (not right_check)) or ((not top_check) and (not bottom_check)):\n",
    "            font_size = int(font_size * 0.9)\n",
    "            continue\n",
    "            \n",
    "        ## Shift the character around\n",
    "        if not left_check:\n",
    "            if not previous_right_check:\n",
    "                font_size = int(font_size * 0.9)\n",
    "            delta_x += width/4\n",
    "            continue\n",
    "            \n",
    "        if not right_check:\n",
    "            if not previous_left_check:\n",
    "                font_size = int(font_size * 0.9)\n",
    "            delta_x -= width/4\n",
    "            continue\n",
    "            \n",
    "        if not top_check:\n",
    "            if not previous_bottom_check:\n",
    "                font_size = int(font_size * 0.9)\n",
    "            delta_y += height/4\n",
    "            continue\n",
    "            \n",
    "        if not bottom_check:\n",
    "            if not previous_top_check:\n",
    "                font_size = int(font_size * 0.9)\n",
    "            delta_y -= height/4\n",
    "            continue\n",
    "            \n",
    "    ## Detect letter edges and crop\n",
    "    x_projection = array_raw.sum(axis=1)\n",
    "    x_values = np.nonzero(x_projection)\n",
    "    x0, x1 = x_values[0][0], x_values[0][-1]\n",
    "    \n",
    "    y_projection = array_raw.sum(axis=0)\n",
    "    y_values = np.nonzero(y_projection)\n",
    "    y0, y1 = y_values[0][0], y_values[0][-1]\n",
    "    \n",
    "    array_crop = array_raw[max(0, x0-3):x1, max(0, y0-3):y1]\n",
    "    \n",
    "    scaling_factor = 0.9*imgsize/max(array_crop.shape)\n",
    "    \n",
    "    array_crop = transform.rescale(array_crop, scale=scaling_factor, preserve_range=True)\n",
    "    \n",
    "    ## Pad the image such that it fits, centered in a 100x100 px image\n",
    "    array = np.zeros((imgsize,imgsize), dtype='uint8')\n",
    "    \n",
    "    x_margin = imgsize - array_crop.shape[1]\n",
    "    y_margin = imgsize - array_crop.shape[0]\n",
    "    \n",
    "    x0 = (x_margin//2 + x_margin%2) - 1\n",
    "    x1 = (imgsize-1) - x_margin//2\n",
    "    \n",
    "    y0 = (y_margin//2 + y_margin%2) - 1\n",
    "    y1 = (imgsize-1) - y_margin//2\n",
    "    \n",
    "    array[y0:y1, x0:x1] = array_crop\n",
    "    \n",
    "    return array\n",
    "    \n",
    "    \n",
    "        \n",
    "    "
   ]
  },
  {
   "cell_type": "code",
   "execution_count": 63,
   "metadata": {
    "collapsed": false
   },
   "outputs": [
    {
     "data": {
      "text/plain": [
       "<matplotlib.image.AxesImage at 0x112625690>"
      ]
     },
     "execution_count": 63,
     "metadata": {},
     "output_type": "execute_result"
    },
    {
     "data": {
      "image/png": "[encoded data removed]",
      "text/plain": [
       "<matplotlib.figure.Figure at 0x10ef507d0>"
      ]
     },
     "metadata": {},
     "output_type": "display_data"
    }
   ],
   "source": [
    "font_dir = os.path.join('/', 'Users', 'mtm', 'Projects', 'FontFinder', 'dafont_fonts')\n",
    "font_dir2 = os.path.join('/', 'Library', 'Fonts')\n",
    "font_path = os.path.join(font_dir, 'Hickory Jack.ttf')\n",
    "\n",
    "img_array = generate_letter_image('a', font_path, imgsize=50)\n",
    "plt.imshow(img_array, cmap='Greys_r')"
   ]
  },
  {
   "cell_type": "code",
   "execution_count": 158,
   "metadata": {
    "collapsed": false
   },
   "outputs": [],
   "source": [
    "## Create an array of M images\n",
    "font_list = [os.path.join(font_dir, font) for font in os.listdir(font_dir)]\n",
    "font_list += [os.path.join(font_dir2, font) for font in os.listdir(font_dir2)]"
   ]
  },
  {
   "cell_type": "code",
   "execution_count": 159,
   "metadata": {
    "collapsed": false
   },
   "outputs": [
    {
     "name": "stdout",
     "output_type": "stream",
     "text": [
      "45895\n",
      "45895\n"
     ]
    }
   ],
   "source": [
    "print len(font_list)\n",
    "#font_list = list(np.random.choice(font_list, 10000))\n",
    "print len(font_list)"
   ]
  },
  {
   "cell_type": "code",
   "execution_count": 160,
   "metadata": {
    "collapsed": false
   },
   "outputs": [
    {
     "data": {
      "text/plain": [
       "True"
      ]
     },
     "execution_count": 160,
     "metadata": {},
     "output_type": "execute_result"
    }
   ],
   "source": [
    "font_index = 0\n",
    "y_fonts = []\n",
    "for i in range(15):\n",
    "    x_fonts = []\n",
    "    for j in range(18):\n",
    "        try:\n",
    "            x_fonts.append(generate_letter_image('a', font_list[font_index], imgsize=50))\n",
    "        except:\n",
    "            x_fonts.append(np.zeros((50,50), dtype='uint8'))\n",
    "        font_index += 1\n",
    "    y_fonts.append(np.hstack(x_fonts))\n",
    "\n",
    "all_fonts = np.vstack(y_fonts)\n",
    "\n",
    "cv2.imwrite('as.png', all_fonts)"
   ]
  },
  {
   "cell_type": "code",
   "execution_count": 161,
   "metadata": {
    "collapsed": true
   },
   "outputs": [],
   "source": [
    "## A function to generate random noise\n",
    "def generate_noise(imgsize=100):\n",
    "    return np.random.random(size=(imgsize, imgsize))"
   ]
  },
  {
   "cell_type": "code",
   "execution_count": 162,
   "metadata": {
    "collapsed": false
   },
   "outputs": [
    {
     "data": {
      "text/plain": [
       "<matplotlib.image.AxesImage at 0x1114352d0>"
      ]
     },
     "execution_count": 162,
     "metadata": {},
     "output_type": "execute_result"
    },
    {
     "data": {
      "image/png": "[encoded data removed]",
      "text/plain": [
       "<matplotlib.figure.Figure at 0x117dfcb90>"
      ]
     },
     "metadata": {},
     "output_type": "display_data"
    }
   ],
   "source": [
    "img_array = generate_noise(imgsize=50)\n",
    "plt.imshow(img_array, cmap='Greys_r')"
   ]
  },
  {
   "cell_type": "code",
   "execution_count": 163,
   "metadata": {
    "collapsed": true
   },
   "outputs": [],
   "source": [
    "## ----------------------------------------\n",
    "def generate_training_sample(char, img, font_list, n_random=10):\n",
    "    \"\"\"\n",
    "    A function to generate the training sample\n",
    "    \"\"\"\n",
    "    \n",
    "    ## normalize the image\n",
    "    norm_img = np.multiply(np.add(img, -np.min(img)), 1.0/np.ptp(img))\n",
    "    \n",
    "    ## Get image dimensions\n",
    "    w,h = norm_img.shape\n",
    "    assert w == h, 'Char image should be square'\n",
    "    \n",
    "    ## Obtain random fonts\n",
    "    random_fonts = np.random.choice(font_list, n_random)\n",
    "    random = []\n",
    "\n",
    "    for font in random_fonts:\n",
    "        try:\n",
    "            rdn_img      = generate_letter_image(char, font, imgsize=w)\n",
    "            rdn_norm_img = np.multiply(rdn_img, 1.0/256)\n",
    "            \n",
    "            random.append(np.ravel(rdn_norm_img))\n",
    "        except:\n",
    "            random.append(np.ones(w*w))\n",
    "            \n",
    "    ## Put together the different types of training samples\n",
    "    n_noise = 10\n",
    "    noise   = [np.ravel(generate_noise(imgsize=w)) for i in range(n_noise)]\n",
    "    \n",
    "    n_zeros = 10\n",
    "    zeros   = [np.zeros(w*w)]*n_zeros\n",
    "    \n",
    "    n_signal = n_random + n_noise + n_zeros\n",
    "    signal   = [np.ravel(norm_img)]*n_signal\n",
    "    \n",
    "    n_total = 2*n_signal\n",
    "    \n",
    "    X = np.stack(signal + noise + zeros + random, axis=0)\n",
    "    y = np.array([0]*n_signal + [1]*n_noise + [2]*n_zeros + range(3, n_random+3))\n",
    "    \n",
    "    return X,y\n",
    "    "
   ]
  },
  {
   "cell_type": "code",
   "execution_count": 164,
   "metadata": {
    "collapsed": false
   },
   "outputs": [
    {
     "data": {
      "text/plain": [
       "<matplotlib.image.AxesImage at 0x10f5a9850>"
      ]
     },
     "execution_count": 164,
     "metadata": {},
     "output_type": "execute_result"
    },
    {
     "data": {
      "image/png": "[encoded data removed]",
      "text/plain": [
       "<matplotlib.figure.Figure at 0x112bbee90>"
      ]
     },
     "metadata": {},
     "output_type": "display_data"
    }
   ],
   "source": [
    "mtest = Image.open('Mtest.png')\n",
    "mtest_array = np.array(mtest.getdata())\n",
    "mtest_array = np.sum(mtest_array, axis=1)\n",
    "mtest_array.shape = (48,48)\n",
    "mtest_array = np.multiply(mtest_array, 1.0/np.max(mtest_array))\n",
    "mtest_array = 1.0 - mtest_array\n",
    "plt.imshow(mtest_array, cmap='Greys_r')"
   ]
  },
  {
   "cell_type": "code",
   "execution_count": 165,
   "metadata": {
    "collapsed": false
   },
   "outputs": [],
   "source": [
    "font_path = os.path.join(font_dir, 'Hickory Jack.ttf')\n",
    "char = 'M'\n",
    "d    = 48\n",
    "img = generate_letter_image(char, font_path, imgsize=d)\n",
    "X_train, y_train = generate_training_sample(char, mtest_array, font_list, n_random=100)"
   ]
  },
  {
   "cell_type": "code",
   "execution_count": 166,
   "metadata": {
    "collapsed": false
   },
   "outputs": [],
   "source": [
    "from sktfnn.neuralnetwork import NeuralNetwork\n",
    "from sktfnn.layer import Layer, ConvLayer, DropoutLayer"
   ]
  },
  {
   "cell_type": "code",
   "execution_count": 187,
   "metadata": {
    "collapsed": false
   },
   "outputs": [],
   "source": [
    "nn = NeuralNetwork(\n",
    "    hidden_layers = [\n",
    "        ConvLayer(\n",
    "            img_size=(d,d),\n",
    "            patch_size=(6,6),\n",
    "            n_features=32,\n",
    "            pooling='max',\n",
    "            pooling_size=(3,3),\n",
    "        ),\n",
    "        ConvLayer(\n",
    "            img_size=(16,16),\n",
    "            n_features=64,\n",
    "            pooling='max',\n",
    "        ),\n",
    "        Layer(\n",
    "            n_neurons=512,\n",
    "            activation='relu'\n",
    "        )\n",
    "    ],\n",
    "    learning_algorithm='GradientDescent',\n",
    "    cost_function='log-likelihood',\n",
    "    learning_rate=2e-2,\n",
    "    early_stopping=False,\n",
    "    stagnation=10,\n",
    "    n_epochs=20,\n",
    "    mini_batch_size=y_train.shape[0]\n",
    "    )"
   ]
  },
  {
   "cell_type": "code",
   "execution_count": 188,
   "metadata": {
    "collapsed": false,
    "scrolled": false
   },
   "outputs": [
    {
     "name": "stdout",
     "output_type": "stream",
     "text": [
      "Epoch 0, validation sample accuracy: 0.00416666688398\n",
      "Epoch 1, validation sample accuracy: 0.5\n",
      "Epoch 2, validation sample accuracy: 0.00416666688398\n",
      "Epoch 3, validation sample accuracy: 0.5\n",
      "Epoch 4, validation sample accuracy: 0.5\n",
      "Epoch 5, validation sample accuracy: 0.533333361149\n",
      "Epoch 6, validation sample accuracy: 0.541666686535\n",
      "Epoch 7, validation sample accuracy: 0.541666686535\n",
      "Epoch 8, validation sample accuracy: 0.550000011921\n",
      "Epoch 9, validation sample accuracy: 0.550000011921\n",
      "Epoch 10, validation sample accuracy: 0.554166674614\n",
      "Epoch 11, validation sample accuracy: 0.554166674614\n",
      "Epoch 12, validation sample accuracy: 0.558333337307\n",
      "Epoch 13, validation sample accuracy: 0.5625\n",
      "Epoch 14, validation sample accuracy: 0.608333349228\n",
      "Epoch 15, validation sample accuracy: 0.608333349228\n",
      "Epoch 16, validation sample accuracy: 0.608333349228\n",
      "Epoch 17, validation sample accuracy: 0.608333349228\n",
      "Epoch 18, validation sample accuracy: 0.608333349228\n",
      "Epoch 19, validation sample accuracy: 0.608333349228\n",
      "CPU times: user 1min 50s, sys: 20.6 s, total: 2min 11s\n",
      "Wall time: 31.7 s\n"
     ]
    }
   ],
   "source": [
    "%time nn.fit(X_train, y_train, verbose=True, val_X=X_train, val_y=y_train)"
   ]
  },
  {
   "cell_type": "code",
   "execution_count": 169,
   "metadata": {
    "collapsed": true
   },
   "outputs": [],
   "source": [
    "# low_level_features = nn.hidden_layers[0].weights.eval()"
   ]
  },
  {
   "cell_type": "code",
   "execution_count": 170,
   "metadata": {
    "collapsed": false
   },
   "outputs": [],
   "source": [
    "# low_level_features.shape"
   ]
  },
  {
   "cell_type": "code",
   "execution_count": 171,
   "metadata": {
    "collapsed": false,
    "scrolled": false
   },
   "outputs": [],
   "source": [
    "# fig, ax = plt.subplots(32, figsize=(2, 64))\n",
    "\n",
    "# for i in range(32):\n",
    "#     ax[i].imshow(low_level_features[:,:,0,i], cmap='Greys_r')"
   ]
  },
  {
   "cell_type": "code",
   "execution_count": 181,
   "metadata": {
    "collapsed": false,
    "scrolled": false
   },
   "outputs": [
    {
     "name": "stdout",
     "output_type": "stream",
     "text": [
      "0\n",
      "1000\n",
      "2000\n",
      "3000\n",
      "4000\n",
      "5000\n",
      "6000\n",
      "7000\n",
      "8000\n",
      "9000\n",
      "10000\n",
      "11000\n",
      "12000\n",
      "13000\n",
      "14000\n",
      "15000\n",
      "16000\n",
      "17000\n",
      "18000\n",
      "19000\n",
      "20000\n",
      "21000\n",
      "22000\n",
      "23000\n",
      "24000\n",
      "25000\n",
      "26000\n",
      "27000\n",
      "28000\n",
      "29000\n",
      "30000\n",
      "31000\n",
      "32000\n",
      "33000\n",
      "34000\n",
      "35000\n",
      "36000\n",
      "37000\n",
      "38000\n",
      "39000\n",
      "40000\n",
      "41000\n",
      "42000\n",
      "43000\n",
      "44000\n",
      "45000\n"
     ]
    }
   ],
   "source": [
    "images = []\n",
    "scores = []\n",
    "fonts  = []\n",
    "\n",
    "progress = 0\n",
    "\n",
    "for font in font_list:\n",
    "    \n",
    "    if progress%1000 == 0:\n",
    "        print progress\n",
    "    \n",
    "    try:\n",
    "        image = generate_letter_image(char, font, imgsize=48)\n",
    "    except:\n",
    "        image = np.ones((d,d), dtype='uint8')\n",
    "        \n",
    "    norm_image = np.multiply(image, 1.0/256)\n",
    "    \n",
    "    images.append(image)\n",
    "    fonts.append(font)\n",
    "    \n",
    "    norm_image.shape = (1,d*d)\n",
    "    \n",
    "    scores.append(nn.predict_proba(norm_image)[0][0])\n",
    "    \n",
    "    progress += 1\n",
    "    "
   ]
  },
  {
   "cell_type": "code",
   "execution_count": 182,
   "metadata": {
    "collapsed": false
   },
   "outputs": [],
   "source": [
    "sorted_images = sorted(zip(scores, images, fonts), key=lambda x: x[0], reverse=True)"
   ]
  },
  {
   "cell_type": "code",
   "execution_count": 183,
   "metadata": {
    "collapsed": false
   },
   "outputs": [],
   "source": [
    "font_index = 0\n",
    "y_fonts = []\n",
    "for i in range(100):\n",
    "    x_fonts = []\n",
    "    for j in range(100):\n",
    "        img = sorted_images[i*100 + j][1]\n",
    "        if font_path == sorted_images[i*100 + j][2]:\n",
    "            img[:,0] = 255\n",
    "            img[:,-1] = 255\n",
    "            img[0,:] = 255\n",
    "            img[-1,:] = 255\n",
    "        \n",
    "        x_fonts.append(img)\n",
    "    y_fonts.append(np.hstack(x_fonts))\n",
    "\n",
    "all_fonts = np.vstack(y_fonts)"
   ]
  },
  {
   "cell_type": "code",
   "execution_count": 184,
   "metadata": {
    "collapsed": false
   },
   "outputs": [
    {
     "data": {
      "text/plain": [
       "True"
      ]
     },
     "execution_count": 184,
     "metadata": {},
     "output_type": "execute_result"
    }
   ],
   "source": [
    "cv2.imwrite('out.png', all_fonts)"
   ]
  },
  {
   "cell_type": "code",
   "execution_count": 185,
   "metadata": {
    "collapsed": false
   },
   "outputs": [
    {
     "name": "stdout",
     "output_type": "stream",
     "text": [
      "15280\n"
     ]
    }
   ],
   "source": [
    "for i, tup in enumerate(sorted_images):\n",
    "    if font_path == tup[2]:\n",
    "        print i"
   ]
  },
  {
   "cell_type": "code",
   "execution_count": 186,
   "metadata": {
    "collapsed": false,
    "scrolled": false
   },
   "outputs": [
    {
     "name": "stdout",
     "output_type": "stream",
     "text": [
      "0.851849 /Users/mtm/Projects/FontFinder/dafont_fonts/Pettra.ttf\n",
      "0.8488 /Users/mtm/Projects/FontFinder/dafont_fonts/EclipseDEMO.ttf\n",
      "0.702016 /Users/mtm/Projects/FontFinder/dafont_fonts/JaponesaShadow.ttf\n",
      "0.669765 /Users/mtm/Projects/FontFinder/dafont_fonts/bloodlustout.ttf\n",
      "0.65921 /Users/mtm/Projects/FontFinder/dafont_fonts/Oh Jay - Dker.ttf\n",
      "0.651794 /Users/mtm/Projects/FontFinder/dafont_fonts/commersial_script.ttf\n",
      "0.577024 /Users/mtm/Projects/FontFinder/dafont_fonts/TCLESCUE.TTF\n",
      "0.501931 /Users/mtm/Projects/FontFinder/dafont_fonts/Sabrinahandfont.ttf\n",
      "0.498802 /Users/mtm/Projects/FontFinder/dafont_fonts/I am Hueca.otf\n",
      "0.473339 /Users/mtm/Projects/FontFinder/dafont_fonts/DK Limoen.otf\n",
      "0.461449 /Users/mtm/Projects/FontFinder/dafont_fonts/I am Hueca.ttf\n",
      "0.460791 /Users/mtm/Projects/FontFinder/dafont_fonts/CrazyCurlz.ttf\n",
      "0.453096 /Users/mtm/Projects/FontFinder/dafont_fonts/BEANTOWN.TTF\n",
      "0.451899 /Users/mtm/Projects/FontFinder/dafont_fonts/alienleagueii3d.ttf\n",
      "0.451484 /Users/mtm/Projects/FontFinder/dafont_fonts/yfilestitle3dital.ttf\n",
      "0.45138 /Users/mtm/Projects/FontFinder/dafont_fonts/alienleague3d.ttf\n",
      "0.44572 /Users/mtm/Projects/FontFinder/dafont_fonts/gabbi-'s handwriting.ttf\n",
      "0.439962 /Users/mtm/Projects/FontFinder/dafont_fonts/MY_EYES_ARE_TWICE.ttf\n",
      "0.403742 /Users/mtm/Projects/FontFinder/dafont_fonts/NotDot.ttf\n",
      "0.38288 /Users/mtm/Projects/FontFinder/dafont_fonts/MakingIdeas.ttf\n",
      "0.379147 /Users/mtm/Projects/FontFinder/dafont_fonts/LetteringDecoShadow.otf\n",
      "0.376037 /Users/mtm/Projects/FontFinder/dafont_fonts/earthrealm3d.ttf\n",
      "0.375983 /Users/mtm/Projects/FontFinder/dafont_fonts/Grossout Shadow.ttf\n",
      "0.373075 /Users/mtm/Projects/FontFinder/dafont_fonts/LEVO Scaloopy FRE.ttf\n",
      "0.348089 /Users/mtm/Projects/FontFinder/dafont_fonts/teenage dream.ttf\n",
      "0.344592 /Users/mtm/Projects/FontFinder/dafont_fonts/Daniel_Sans.ttf\n",
      "0.342146 /Users/mtm/Projects/FontFinder/dafont_fonts/yfiles3dital.ttf\n",
      "0.336829 /Users/mtm/Projects/FontFinder/dafont_fonts/watchtower3d.ttf\n",
      "0.334223 /Users/mtm/Projects/FontFinder/dafont_fonts/WankstabergBattles.ttf\n",
      "0.330262 /Users/mtm/Projects/FontFinder/dafont_fonts/LaPointesRoad.ttf\n",
      "0.323963 /Users/mtm/Projects/FontFinder/dafont_fonts/ThickerThanOl.otf\n",
      "0.321898 /Users/mtm/Projects/FontFinder/dafont_fonts/LetteringDecoShadow.ttf\n",
      "0.316108 /Users/mtm/Projects/FontFinder/dafont_fonts/Kaligraf_Latin.ttf\n",
      "0.31118 /Users/mtm/Projects/FontFinder/dafont_fonts/PWFlymetothemoon.ttf\n",
      "0.310171 /Users/mtm/Projects/FontFinder/dafont_fonts/bubble & soap.ttf\n",
      "0.308239 /Users/mtm/Projects/FontFinder/dafont_fonts/watchtowerout.ttf\n",
      "0.306938 /Users/mtm/Projects/FontFinder/dafont_fonts/NINJAS.TTF\n",
      "0.30645 /Users/mtm/Projects/FontFinder/dafont_fonts/kafka.ttf\n",
      "0.30448 /Users/mtm/Projects/FontFinder/dafont_fonts/Kaligraf Cyr.ttf\n",
      "0.303677 /Users/mtm/Projects/FontFinder/dafont_fonts/Umbro1.ttf\n",
      "0.303366 /Users/mtm/Projects/FontFinder/dafont_fonts/wylds.ttf\n",
      "0.30226 /Users/mtm/Projects/FontFinder/dafont_fonts/DK Hyggelig.otf\n",
      "0.297001 /Users/mtm/Projects/FontFinder/dafont_fonts/Pauls Bloody Font.ttf\n",
      "0.294778 /Users/mtm/Projects/FontFinder/dafont_fonts/AboveGround.ttf\n",
      "0.289582 /Users/mtm/Projects/FontFinder/dafont_fonts/Mystery White.ttf\n",
      "0.288356 /Users/mtm/Projects/FontFinder/dafont_fonts/bumkins_.TTF\n",
      "0.286991 /Users/mtm/Projects/FontFinder/dafont_fonts/Radar Echoes, Unclear Atmosphere.ttf\n",
      "0.286936 /Users/mtm/Projects/FontFinder/dafont_fonts/OutlinerNo.45 DEMO-KCFonts.ttf\n",
      "0.286854 /Users/mtm/Projects/FontFinder/dafont_fonts/chopstickfont.ttf\n",
      "0.278199 /Users/mtm/Projects/FontFinder/dafont_fonts/UglyKids-ThinItalic.ttf\n",
      "0.275378 /Users/mtm/Projects/FontFinder/dafont_fonts/WinterIce.ttf\n",
      "0.273879 /Users/mtm/Projects/FontFinder/dafont_fonts/ATMAN-DI.TTF\n",
      "0.26813 /Users/mtm/Projects/FontFinder/dafont_fonts/BaltimoreTypewriterBold Beveled.otf\n",
      "0.267209 /Users/mtm/Projects/FontFinder/dafont_fonts/battleworldoutital.ttf\n",
      "0.263022 /Users/mtm/Projects/FontFinder/dafont_fonts/yumernub.ttf\n",
      "0.262474 /Users/mtm/Projects/FontFinder/dafont_fonts/DazeBuna.ttf\n",
      "0.26162 /Users/mtm/Projects/FontFinder/dafont_fonts/BaltimoreTypewriterBold Beveled.ttf\n",
      "0.261082 /Users/mtm/Projects/FontFinder/dafont_fonts/WalkonFire.ttf\n",
      "0.260812 /Users/mtm/Projects/FontFinder/dafont_fonts/electron 8f.ttf\n",
      "0.260517 /Users/mtm/Projects/FontFinder/dafont_fonts/warlocksale3d.ttf\n",
      "0.260286 /Users/mtm/Projects/FontFinder/dafont_fonts/clubberlang3d.ttf\n",
      "0.259109 /Users/mtm/Projects/FontFinder/dafont_fonts/de_louisville.otf\n",
      "0.258261 /Users/mtm/Projects/FontFinder/dafont_fonts/DJB Happily Ever After 2.otf\n",
      "0.25547 /Users/mtm/Projects/FontFinder/dafont_fonts/NEISTIL.TTF\n",
      "0.253645 /Users/mtm/Projects/FontFinder/dafont_fonts/vtks army 3d.ttf\n",
      "0.253137 /Users/mtm/Projects/FontFinder/dafont_fonts/timberwolf3dital.ttf\n",
      "0.244303 /Users/mtm/Projects/FontFinder/dafont_fonts/HamburgSymbols.ttf\n",
      "0.242187 /Users/mtm/Projects/FontFinder/dafont_fonts/BUSSETA_.TTF\n",
      "0.240097 /Users/mtm/Projects/FontFinder/dafont_fonts/horroween3d.ttf\n",
      "0.238519 /Users/mtm/Projects/FontFinder/dafont_fonts/vtks storm 2.ttf\n",
      "0.238179 /Users/mtm/Projects/FontFinder/dafont_fonts/Geddes Condensed Italic.otf\n",
      "0.236701 /Users/mtm/Projects/FontFinder/dafont_fonts/pindwnx.ttf\n",
      "0.233581 /Users/mtm/Projects/FontFinder/dafont_fonts/punkrawk.[fontvir.us].ttf\n",
      "0.231861 /Users/mtm/Projects/FontFinder/dafont_fonts/Holyv2si.ttf\n",
      "0.231152 /Users/mtm/Projects/FontFinder/dafont_fonts/limh.ttf\n",
      "0.230817 /Users/mtm/Projects/FontFinder/dafont_fonts/MRROF___.TTF\n",
      "0.229211 /Users/mtm/Projects/FontFinder/dafont_fonts/WindyRainDemo.ttf\n",
      "0.228953 /Users/mtm/Projects/FontFinder/dafont_fonts/zollern3d.ttf\n",
      "0.227834 /Users/mtm/Projects/FontFinder/dafont_fonts/4YEOMONS.TTF\n",
      "0.224423 /Users/mtm/Projects/FontFinder/dafont_fonts/towerruinsout.ttf\n",
      "0.224346 /Users/mtm/Projects/FontFinder/dafont_fonts/step_on_step.ttf\n",
      "0.224191 /Users/mtm/Projects/FontFinder/dafont_fonts/Angel.otf\n",
      "0.222525 /Users/mtm/Projects/FontFinder/dafont_fonts/Weird.ttf\n",
      "0.221497 /Users/mtm/Projects/FontFinder/dafont_fonts/Sisterv2s.ttf\n",
      "0.221107 /Users/mtm/Projects/FontFinder/dafont_fonts/bogbeast3d.ttf\n",
      "0.220113 /Users/mtm/Projects/FontFinder/dafont_fonts/Transmetals Condensed Italic.ttf\n",
      "0.217757 /Users/mtm/Projects/FontFinder/dafont_fonts/Sweetly Broken.ttf\n",
      "0.211577 /Users/mtm/Projects/FontFinder/dafont_fonts/Volstead.ttf\n",
      "0.211483 /Users/mtm/Projects/FontFinder/dafont_fonts/Julliscriptum-Reloaded.ttf\n",
      "0.211196 /Users/mtm/Projects/FontFinder/dafont_fonts/Azcrushe.ttf\n",
      "0.2111 /Users/mtm/Projects/FontFinder/dafont_fonts/undergroundrose3d.ttf\n",
      "0.210257 /Users/mtm/Projects/FontFinder/dafont_fonts/PRIMD___.TTF\n",
      "0.209331 /Users/mtm/Projects/FontFinder/dafont_fonts/TX_love.ttf\n",
      "0.207299 /Users/mtm/Projects/FontFinder/dafont_fonts/SF Iron Gothic Shaded Oblique.ttf\n",
      "0.206769 /Users/mtm/Projects/FontFinder/dafont_fonts/Bellyfish.ttf\n",
      "0.206616 /Users/mtm/Projects/FontFinder/dafont_fonts/DK Nanuk.otf\n",
      "0.206206 /Users/mtm/Projects/FontFinder/dafont_fonts/bvrondit.ttf\n",
      "0.204756 /Users/mtm/Projects/FontFinder/dafont_fonts/MIXE2___.TTF\n",
      "0.201741 /Users/mtm/Projects/FontFinder/dafont_fonts/horroroid3d.ttf\n",
      "0.196146 /Users/mtm/Projects/FontFinder/dafont_fonts/SF Port McKenzie Outline Italic.ttf\n",
      "0.195876 /Users/mtm/Projects/FontFinder/dafont_fonts/tussleo.ttf\n",
      "0.194201 /Users/mtm/Projects/FontFinder/dafont_fonts/PCGothicScroll.ttf\n"
     ]
    }
   ],
   "source": [
    "for i, (score, image, font) in enumerate(sorted_images):\n",
    "    print score, font\n",
    "    if i > 100: break"
   ]
  },
  {
   "cell_type": "code",
   "execution_count": null,
   "metadata": {
    "collapsed": true
   },
   "outputs": [],
   "source": []
  }
 ],
 "metadata": {
  "kernelspec": {
   "display_name": "Python 2",
   "language": "python",
   "name": "python2"
  },
  "language_info": {
   "codemirror_mode": {
    "name": "ipython",
    "version": 2
   },
   "file_extension": ".py",
   "mimetype": "text/x-python",
   "name": "python",
   "nbconvert_exporter": "python",
   "pygments_lexer": "ipython2",
   "version": "2.7.11"
  }
 },
 "nbformat": 4,
 "nbformat_minor": 0
}
